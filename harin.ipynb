{
 "cells": [
  {
   "cell_type": "code",
   "execution_count": 3,
   "metadata": {},
   "outputs": [],
   "source": [
    "import numpy as np          "
   ]
  },
  {
   "cell_type": "code",
   "execution_count": 7,
   "metadata": {},
   "outputs": [
    {
     "name": "stdout",
     "output_type": "stream",
     "text": [
      "Enter the dimension 1 positive integer numbers between 5 to 20, =5\n",
      "Enter the dimension 2 positive integer numbers between 5 to 20, =5\n",
      "[[0. 0. 0. 0. 0.]\n",
      " [0. 1. 1. 1. 0.]\n",
      " [0. 1. 1. 1. 0.]\n",
      " [0. 1. 1. 1. 0.]\n",
      " [0. 0. 0. 0. 0.]]\n"
     ]
    }
   ],
   "source": [
    "num1 = int(input('Enter the dimension 1 positive integer numbers between 5 to 20, ='))\n",
    "num2 = int(input('Enter the dimension 2 positive integer numbers between 5 to 20, ='))\n",
    "\n",
    "x = np.zeros((num1,num2))\n",
    "\n",
    " \n",
    "        \n",
    "x[1:-1,1:-1] = 1\n",
    "print(x)\n"
   ]
  },
  {
   "cell_type": "code",
   "execution_count": 8,
   "metadata": {},
   "outputs": [
    {
     "name": "stdout",
     "output_type": "stream",
     "text": [
      "0.0 0.0 0.0 0.0 0.0 \n",
      "0.0 1.0 1.0 1.0 0.0 \n",
      "0.0 1.0 1.0 1.0 0.0 \n",
      "0.0 1.0 1.0 1.0 0.0 \n",
      "0.0 0.0 0.0 0.0 0.0 \n"
     ]
    }
   ],
   "source": [
    "for i in range(num1): \n",
    "        for j in range(num2): \n",
    "            print(x[i][j], end =\" \")  \n",
    "        print()"
   ]
  },
  {
   "cell_type": "code",
   "execution_count": null,
   "metadata": {},
   "outputs": [],
   "source": []
  }
 ],
 "metadata": {
  "kernelspec": {
   "display_name": "Python 3",
   "language": "python",
   "name": "python3"
  },
  "language_info": {
   "codemirror_mode": {
    "name": "ipython",
    "version": 3
   },
   "file_extension": ".py",
   "mimetype": "text/x-python",
   "name": "python",
   "nbconvert_exporter": "python",
   "pygments_lexer": "ipython3",
   "version": "3.7.3"
  }
 },
 "nbformat": 4,
 "nbformat_minor": 2
}
